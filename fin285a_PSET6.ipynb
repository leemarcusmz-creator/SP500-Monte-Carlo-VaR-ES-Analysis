{
 "cells": [
  {
   "cell_type": "markdown",
   "metadata": {},
   "source": [
    "PSET6"
   ]
  },
  {
   "attachments": {},
   "cell_type": "markdown",
   "metadata": {},
   "source": [
    "### Problem 1: For this use the usual SP500 data set that we have used in class. In all cases use logarithmic returns.\n",
    "a.\tEstimate the 40 day VaR(p=0.025) using the method of sampling the prices every 40 days.\n",
    "b.\tNow estimate the 40 day VaR by assuming that 1 day returns are log normal, and use the delta-normal method and the square root of h rule to expand the return distribution to 40 days.\n",
    "c.\tNow repeat this VaR estimation using the independent bootstrap with 10,000 replications.\n",
    "d.\tRepeat the last part with a blocked bootstrap, drawing a 40 day block each time. Again, use 10,000 replications.\n",
    "e.\tYour bootstrap procedures are used to estimate VaR, but not confidence bands. How might you try to estimate confidence bands?"
   ]
  },
  {
   "cell_type": "code",
   "execution_count": 2,
   "metadata": {},
   "outputs": [
    {
     "name": "stdout",
     "output_type": "stream",
     "text": [
      "--- Problem 1.a ---\n",
      "40 day VAR(p=0.025):  11.040290813823148\n",
      "--- Problem 1.b ---\n",
      "40 day delta normal VaR(p=0.025):  10.247381086650037\n",
      "--- Problem 1.c ---\n",
      "VaR through bootstrap (10,000 iterations):  10.649750443370493\n",
      "--- Problem 1.d ---\n",
      "VaR through bootstrap (10,000 iterations):  10.83502799655328\n"
     ]
    }
   ],
   "source": [
    "#Question 1\n",
    "import pandas as pd \n",
    "import numpy as np \n",
    "import scipy.stats as stats\n",
    "import matplotlib.pyplot as plt\n",
    "import matplotlib.lines\n",
    "\n",
    "sp500 = pd.read_csv('sp500yahoo.csv')\n",
    "sp500_40days = sp500[0::40].copy()\n",
    "\n",
    "sp500_40days['lagClose'] = sp500_40days.Close.shift(1)\n",
    "sp500_40days = sp500_40days[1:] \n",
    "\n",
    "sp500_40days['logdiff']=np.log(sp500_40days['Adj Close'])-np.log(sp500_40days['lagClose'])\n",
    "sp500_40days = sp500_40days[1:]\n",
    "retVec = sp500_40days['logdiff'].values\n",
    "\n",
    "# estimate mean and std\n",
    "retMean = np.mean(retVec)\n",
    "retStd = np.std(retVec)\n",
    "\n",
    "T = len(retVec)\n",
    "\n",
    "#Question 1a\n",
    "# horizon length and VaR level\n",
    "rstar = np.percentile(retVec, 2.5)\n",
    "q1a_log_var = -100*rstar\n",
    "\n",
    "print('--- Problem 1.a ---')\n",
    "print('40 day VAR(p=0.025): ', q1a_log_var)\n",
    "\n",
    "#Question 1b\n",
    "sp500['lagClose'] = sp500.Close.shift(1)\n",
    "sp500 = sp500[1:] \n",
    "\n",
    "sp500['logdiff']=np.log(sp500['Adj Close'])-np.log(sp500['lagClose'])\n",
    "retVec_2 = sp500['logdiff'].values\n",
    "\n",
    "# estimate mean and std\n",
    "retMean_2 = np.mean(retVec_2)\n",
    "retStd_2 = np.std(retVec_2)\n",
    "retStd_2_1 = retStd_2*np.sqrt(40)\n",
    "T_2 = len(retVec_2)\n",
    "\n",
    "rstar_delta_norm = stats.norm.ppf(.025,loc=40*retMean_2,scale=retStd_2_1)\n",
    "q1b_VAR_delta_norm = 100-100.*np.exp(rstar_delta_norm)\n",
    "\n",
    "print('--- Problem 1.b ---')\n",
    "print('40 day delta normal VaR(p=0.025): ', q1b_VAR_delta_norm)\n",
    "\n",
    "#Question 1c\n",
    "h = 40\n",
    "p = 0.025\n",
    "nboot = 10000\n",
    "\n",
    "port40dayb = np.zeros(nboot)\n",
    "for i in range(nboot):\n",
    "    # bootstrap vectors of length h\n",
    "    retb = np.random.choice(retVec_2,size=h,replace=True)\n",
    "    # build h day compounded price\n",
    "    # many ways to do this (sum of logs) port20dayb[i] = 100.*np.exp(np.sum(retb))\n",
    "    port40dayb[i] = 100.*np.prod(np.exp(retb))  \n",
    "\n",
    "q1c_VaR = 100. - np.percentile(port40dayb,100.*p)\n",
    "\n",
    "print('--- Problem 1.c ---')\n",
    "print('VaR through bootstrap (10,000 iterations): ', q1c_VaR)\n",
    "\n",
    "#Question 1d\n",
    "port40dayb_2 = np.zeros(nboot)\n",
    "for i in range(nboot):\n",
    "    # bootstrap vectors of length h\n",
    "    start = np.random.randint(low=0,high=(T_2-h+1),size=1)\n",
    "    retb_d = retVec_2[start[0]:(start[0]+h)]\n",
    "    # build 10 day compounded price\n",
    "    # many ways to do this (sum of logs)\n",
    "    port40dayb_2[i] = np.prod(np.exp(retb_d))*100.\n",
    "\n",
    "q1d_VaR = 100. - np.percentile(port40dayb_2,100.*p)\n",
    "\n",
    "print('--- Problem 1.d ---')\n",
    "print('VaR through bootstrap (10,000 iterations): ', q1d_VaR)"
   ]
  },
  {
   "attachments": {},
   "cell_type": "markdown",
   "metadata": {},
   "source": [
    "### Problem 2: You have a portfolio whose final value is based on the future price of a stock. However, because of a complex set of derivative transactions, the valuation is nonlinear with V = 101 - (P-101)^2. The initial price, P0 = 100, and the initial value of the portfolio is V0 = 100. You know that the future price, P1, is distributed as a normal distribution with mean 101, and standard deviation 1.\n",
    "a.\tWrite Python code to find the 0.01 VaR and ES in this case. In both cases use a monte-carlo simulation with the assumed distribution for prices and 10,000 monte-carlo simulations.\n",
    "b.\tNow do this with a delta normal approach. First, write down a linearization of the valuation, V(P), evaluated at P = P0 = 100. (This is the first order Taylor approximation.) Use this and the appropriate quantile for the price to find the 0.01 VaR (no ES this time). You can write down Python code for this, but you shouldn’t do a monte-carlo approximation.\n",
    "c.\tIf the price really does follow that normal distribution which of these answers is closest to the correct measure of risk? Why?"
   ]
  },
  {
   "cell_type": "code",
   "execution_count": 6,
   "metadata": {},
   "outputs": [
    {
     "name": "stdout",
     "output_type": "stream",
     "text": [
      "--- Problem 2.a ---\n",
      "VaR:  106755911.801236\n",
      "ES:  -9838.337724320072\n",
      "--- Problem 2.b ---\n",
      "VaR:  98.78678270194794\n",
      "--- Problem 2.c ---\n",
      "If price really follows tha normal distribution, in order to calculate the maximum loss expected (worst case scenario), a delta normal method would be more accurate as it assumes all asset returns are normally distributed. As the portfolio return is linear combination of normal variables, it is also normally distributed. \n"
     ]
    }
   ],
   "source": [
    "#Question 2a\n",
    "p_q2 = 0.01 \n",
    "nMC = 10000\n",
    "retmean_MC_q2a = 101\n",
    "retSTD_MC_q2a = 1\n",
    "\n",
    "retMC_q2a = np.random.normal(loc=retmean_MC_q2a, scale=retSTD_MC_q2a, size=nMC)\n",
    "RStar_q2a = np.percentile(retMC_q2a,100.*p_q2)\n",
    "RTilde_q2a = np.mean(retMC_q2a[retMC_q2a<=RStar_q2a])\n",
    "esMCNorm_q2a = -100*RTilde_q2a\n",
    "\n",
    "price_q2a = (1+retMC_q2a)*100.\n",
    "V = 101 - ((price_q2a - 101.)**2)\n",
    "V_0 = 100\n",
    "profitloss = V - V_0\n",
    "VaRMC_q2a = -np.percentile(profitloss, 1)\n",
    "\n",
    "print('--- Problem 2.a ---')\n",
    "print('VaR: ', VaRMC_q2a)\n",
    "print('ES: ', esMCNorm_q2a)\n",
    "\n",
    "#Question 2b\n",
    "rstar_delta_norm_q2b = stats.norm.ppf(p_q2,loc=retmean_MC_q2a,scale=retSTD_MC_q2a)\n",
    "V = 101 - ((rstar_delta_norm_q2b - 101.)**2)\n",
    "V_0 = 100\n",
    "profitloss = V - V_0\n",
    "q2b_VAR_delta_norm = 100-100.*np.exp(profitloss)\n",
    "\n",
    "print('--- Problem 2.b ---')\n",
    "print('VaR: ', q2b_VAR_delta_norm)\n",
    "\n",
    "print('--- Problem 2.c ---')\n",
    "print('If price really follows tha normal distribution, in order to calculate the maximum loss expected (worst case scenario), a delta normal method would be more accurate as it assumes all asset returns are normally distributed. As the portfolio return is linear combination of normal variables, it is also normally distributed. ')"
   ]
  },
  {
   "attachments": {},
   "cell_type": "markdown",
   "metadata": {},
   "source": [
    "### Problem 3: I am an investor concerned about the ratio of my long run wealth, W(T), divided by my current wealth, W(1). I’m planning on investing wealth in a single risky asset with a given expected return, and variance, holding and reinvesting all returns from period 1 to period T. Returns are independent over time.\n",
    "a.\tDo I know anything about the distribution of W(T)/W(1)?\n",
    "b.\tI am expecting that this ratio would be (1+u) T  (1+u)T where u = the expected annual return for the asset. Will I underperform this target more or less than 50 percent of the time? Why?"
   ]
  },
  {
   "cell_type": "code",
   "execution_count": 7,
   "metadata": {},
   "outputs": [
    {
     "name": "stdout",
     "output_type": "stream",
     "text": [
      "--- Problem 3.a ---\n",
      "Judging from the wealth at long horizon, W(T)/W(1) will be is an approximate log normal, where it would be equal to log(100)/r1 + sum(rt,1:T)/r1.\n",
      "--- Problem 3.b ---\n",
      "Tt is expected that you will underperform more than 50% of the time. If returns are lognormal over time, the lognormal is postuvely skewed to the right, where mean is greater than median, which is greater than mode. In this aspect, median return which is the return of 50% of the time is less than the mean return. \n"
     ]
    }
   ],
   "source": [
    "print('--- Problem 3.a ---')\n",
    "print('Judging from the wealth at long horizon, W(T)/W(1) will be is an approximate log normal, where it would be equal to log(100)/r1 + sum(rt,1:T)/r1.')\n",
    "#Question 3b\n",
    "print('--- Problem 3.b ---')\n",
    "print('Tt is expected that you will underperform more than 50% of the time. If returns are lognormal over time, the lognormal is postuvely skewed to the right, where mean is greater than median, which is greater than mode. In this aspect, median return which is the return of 50% of the time is less than the mean return. ')"
   ]
  },
  {
   "cell_type": "code",
   "execution_count": null,
   "metadata": {},
   "outputs": [],
   "source": []
  }
 ],
 "metadata": {
  "kernelspec": {
   "display_name": "Python 3",
   "language": "python",
   "name": "python3"
  },
  "language_info": {
   "codemirror_mode": {
    "name": "ipython",
    "version": 3
   },
   "file_extension": ".py",
   "mimetype": "text/x-python",
   "name": "python",
   "nbconvert_exporter": "python",
   "pygments_lexer": "ipython3",
   "version": "3.7.4"
  }
 },
 "nbformat": 4,
 "nbformat_minor": 2
}
